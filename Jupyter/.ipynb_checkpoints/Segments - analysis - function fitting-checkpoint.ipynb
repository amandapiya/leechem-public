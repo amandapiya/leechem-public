{
 "cells": [
  {
   "cell_type": "code",
   "execution_count": 1,
   "metadata": {},
   "outputs": [
    {
     "name": "stdout",
     "output_type": "stream",
     "text": [
      "importing Jupyter notebook from FitterMod.ipynb\n"
     ]
    }
   ],
   "source": [
    "import math\n",
    "import copy\n",
    "from tqdm import tqdm\n",
    "\n",
    "import numpy as np\n",
    "import pandas as pd\n",
    "\n",
    "import networkx as nx\n",
    "\n",
    "import matplotlib.pyplot as plt\n",
    "import plotly.offline\n",
    "import plotly.graph_objects as go\n",
    "from plotly.subplots import make_subplots\n",
    "\n",
    "from sbemdb import SBEMDB\n",
    "from cleandb import clean_db, clean_db_uct\n",
    "\n",
    "from distance import distance\n",
    "from findpath import find_path\n",
    "\n",
    "import scipy.stats  \n",
    "\n",
    "import import_ipynb\n",
    "from FitterMod import Fitter"
   ]
  },
  {
   "cell_type": "code",
   "execution_count": 2,
   "metadata": {},
   "outputs": [
    {
     "name": "stdout",
     "output_type": "stream",
     "text": [
      "trees Before 398\n",
      "trees After 46\n",
      "nodes Before 37481\n",
      "nodes After 16320\n",
      "nodecons Before 73994\n",
      "nodecons After 32548\n",
      "syncons Before 1199\n",
      "syncons After 826\n",
      "synapses Before 552\n",
      "synapses After 535\n"
     ]
    }
   ],
   "source": [
    "db = SBEMDB() # connect to DB\n",
    "db = clean_db(db)"
   ]
  },
  {
   "cell_type": "code",
   "execution_count": 3,
   "metadata": {},
   "outputs": [],
   "source": [
    "node_ids_db = list(db.nodeDetails('tid==444 and typ=6').keys())"
   ]
  },
  {
   "cell_type": "code",
   "execution_count": 4,
   "metadata": {},
   "outputs": [
    {
     "data": {
      "text/html": [
       "<div>\n",
       "<style scoped>\n",
       "    .dataframe tbody tr th:only-of-type {\n",
       "        vertical-align: middle;\n",
       "    }\n",
       "\n",
       "    .dataframe tbody tr th {\n",
       "        vertical-align: top;\n",
       "    }\n",
       "\n",
       "    .dataframe thead th {\n",
       "        text-align: right;\n",
       "    }\n",
       "</style>\n",
       "<table border=\"1\" class=\"dataframe\">\n",
       "  <thead>\n",
       "    <tr style=\"text-align: right;\">\n",
       "      <th></th>\n",
       "      <th>segment_id</th>\n",
       "      <th>branch_id</th>\n",
       "      <th>type</th>\n",
       "      <th>depth</th>\n",
       "      <th>is_synapse</th>\n",
       "      <th>node_id</th>\n",
       "      <th>point_node_id</th>\n",
       "    </tr>\n",
       "  </thead>\n",
       "  <tbody>\n",
       "    <tr>\n",
       "      <th>0</th>\n",
       "      <td>0</td>\n",
       "      <td>0</td>\n",
       "      <td>main</td>\n",
       "      <td>0</td>\n",
       "      <td>False</td>\n",
       "      <td>3477</td>\n",
       "      <td>2137</td>\n",
       "    </tr>\n",
       "    <tr>\n",
       "      <th>1</th>\n",
       "      <td>0</td>\n",
       "      <td>0</td>\n",
       "      <td>main</td>\n",
       "      <td>0</td>\n",
       "      <td>False</td>\n",
       "      <td>3478</td>\n",
       "      <td>3477</td>\n",
       "    </tr>\n",
       "    <tr>\n",
       "      <th>2</th>\n",
       "      <td>0</td>\n",
       "      <td>0</td>\n",
       "      <td>main</td>\n",
       "      <td>0</td>\n",
       "      <td>False</td>\n",
       "      <td>3479</td>\n",
       "      <td>3478</td>\n",
       "    </tr>\n",
       "    <tr>\n",
       "      <th>3</th>\n",
       "      <td>0</td>\n",
       "      <td>0</td>\n",
       "      <td>main</td>\n",
       "      <td>0</td>\n",
       "      <td>False</td>\n",
       "      <td>3480</td>\n",
       "      <td>3479</td>\n",
       "    </tr>\n",
       "    <tr>\n",
       "      <th>4</th>\n",
       "      <td>0</td>\n",
       "      <td>0</td>\n",
       "      <td>main</td>\n",
       "      <td>0</td>\n",
       "      <td>False</td>\n",
       "      <td>3481</td>\n",
       "      <td>3480</td>\n",
       "    </tr>\n",
       "  </tbody>\n",
       "</table>\n",
       "</div>"
      ],
      "text/plain": [
       "   segment_id  branch_id  type  depth  is_synapse  node_id  point_node_id\n",
       "0           0          0  main      0       False     3477           2137\n",
       "1           0          0  main      0       False     3478           3477\n",
       "2           0          0  main      0       False     3479           3478\n",
       "3           0          0  main      0       False     3480           3479\n",
       "4           0          0  main      0       False     3481           3480"
      ]
     },
     "execution_count": 4,
     "metadata": {},
     "output_type": "execute_result"
    }
   ],
   "source": [
    "segments = pd.read_csv('segments_table_dw.csv')\n",
    "segments.head()"
   ]
  },
  {
   "cell_type": "code",
   "execution_count": 5,
   "metadata": {},
   "outputs": [],
   "source": [
    "x, y, z, nid = db.nodexyz()\n",
    "\n",
    "coord_nid = {} # {(coords): nid}\n",
    "nid_coord = {} # {nid: (coords)}\n",
    "for i in range(len(x)):\n",
    "    coord_nid[(x[i], y[i], z[i])] = nid[i]\n",
    "    nid_coord[nid[i]] = (x[i], y[i], z[i])"
   ]
  },
  {
   "cell_type": "code",
   "execution_count": 6,
   "metadata": {},
   "outputs": [],
   "source": [
    "x,y,z = db.segments(444)\n",
    "\n",
    "G = nx.Graph() # graph of connected node ids given segments\n",
    "\n",
    "for i in range(len(x) - 1):\n",
    "    if not math.isnan(x[i]) and not math.isnan(x[i+1]):\n",
    "        G_nid1 = coord_nid[(x[i], y[i], z[i])]\n",
    "        G_nid2 = coord_nid[(x[i+1], y[i+1], z[i+1])]\n",
    "        G.add_edge(G_nid1, G_nid2, distance=distance(x[i], y[i], z[i], x[i+1], y[i+1], z[i+1]))"
   ]
  },
  {
   "cell_type": "code",
   "execution_count": 7,
   "metadata": {},
   "outputs": [
    {
     "data": {
      "text/html": [
       "<div>\n",
       "<style scoped>\n",
       "    .dataframe tbody tr th:only-of-type {\n",
       "        vertical-align: middle;\n",
       "    }\n",
       "\n",
       "    .dataframe tbody tr th {\n",
       "        vertical-align: top;\n",
       "    }\n",
       "\n",
       "    .dataframe thead th {\n",
       "        text-align: right;\n",
       "    }\n",
       "</style>\n",
       "<table border=\"1\" class=\"dataframe\">\n",
       "  <thead>\n",
       "    <tr style=\"text-align: right;\">\n",
       "      <th></th>\n",
       "      <th>segment_id</th>\n",
       "      <th>branch_id</th>\n",
       "      <th>type</th>\n",
       "      <th>depth</th>\n",
       "      <th>is_synapse</th>\n",
       "      <th>node_id</th>\n",
       "      <th>point_node_id</th>\n",
       "    </tr>\n",
       "  </thead>\n",
       "  <tbody>\n",
       "    <tr>\n",
       "      <th>794</th>\n",
       "      <td>309</td>\n",
       "      <td>0</td>\n",
       "      <td>is</td>\n",
       "      <td>35</td>\n",
       "      <td>False</td>\n",
       "      <td>6748</td>\n",
       "      <td>6746</td>\n",
       "    </tr>\n",
       "    <tr>\n",
       "      <th>795</th>\n",
       "      <td>309</td>\n",
       "      <td>0</td>\n",
       "      <td>is</td>\n",
       "      <td>35</td>\n",
       "      <td>False</td>\n",
       "      <td>6749</td>\n",
       "      <td>6748</td>\n",
       "    </tr>\n",
       "    <tr>\n",
       "      <th>796</th>\n",
       "      <td>309</td>\n",
       "      <td>0</td>\n",
       "      <td>is</td>\n",
       "      <td>35</td>\n",
       "      <td>False</td>\n",
       "      <td>6750</td>\n",
       "      <td>6749</td>\n",
       "    </tr>\n",
       "  </tbody>\n",
       "</table>\n",
       "</div>"
      ],
      "text/plain": [
       "     segment_id  branch_id type  depth  is_synapse  node_id  point_node_id\n",
       "794         309          0   is     35       False     6748           6746\n",
       "795         309          0   is     35       False     6749           6748\n",
       "796         309          0   is     35       False     6750           6749"
      ]
     },
     "execution_count": 7,
     "metadata": {},
     "output_type": "execute_result"
    }
   ],
   "source": [
    "segment_ids = segments['segment_id'].unique()\n",
    "\n",
    "## Example\n",
    "# starting node has same node_id and point_node_id | maybe this should be null\n",
    "segments[segments['segment_id'] == segment_ids[111]]"
   ]
  },
  {
   "cell_type": "code",
   "execution_count": 8,
   "metadata": {},
   "outputs": [],
   "source": [
    "def get_length(segment_id):\n",
    "    segment_nodes = segments[segments['segment_id'] == segment_id]\n",
    "    start_node = segment_nodes.iloc[-1]['node_id']\n",
    "    end_node = segment_nodes.iloc[0]['point_node_id']\n",
    "    length = nx.dijkstra_path_length(G, start_node, end_node, 'distance')\n",
    "    return length"
   ]
  },
  {
   "cell_type": "code",
   "execution_count": 9,
   "metadata": {},
   "outputs": [],
   "source": [
    "segment_length = {segment_id: get_length(segment_id) for segment_id in segment_ids}\n",
    "segment_type = {segment_id: segments[segments['segment_id'] == segment_id]['type'].values[0] for segment_id in segment_ids}\n",
    "segment_length_all = list(segment_length.values())\n",
    "segment_length_main = [segment_length[seg_id] for seg_id in segments[segments['type'] == 'main']['segment_id'].unique()]\n",
    "segment_length_intermediate = [segment_length[seg_id] for seg_id in segments[segments['type'] == 'is']['segment_id'].unique()]\n",
    "segment_length_terminal = [segment_length[seg_id] for seg_id in segments[segments['type'] == 'ts']['segment_id'].unique()]\n",
    "segment_length_root = [segment_length[seg_id] for seg_id in segments[segments['type'] == 'root']['segment_id'].unique()]"
   ]
  },
  {
   "cell_type": "code",
   "execution_count": 10,
   "metadata": {},
   "outputs": [
    {
     "name": "stderr",
     "output_type": "stream",
     "text": [
      "c:\\users\\amanda p\\appdata\\local\\programs\\python\\python38\\lib\\site-packages\\scipy\\optimize\\optimize.py:597: RuntimeWarning:\n",
      "\n",
      "invalid value encountered in subtract\n",
      "\n"
     ]
    },
    {
     "name": "stdout",
     "output_type": "stream",
     "text": [
      "Fitted gamma distribution with error=0.004971017193680536)\n",
      "Fitted expon distribution with error=0.003163475343090669)\n",
      "Fitted exponpow distribution with error=0.008862138039128904)\n",
      "Fitted lognorm distribution with error=0.0018853135180104032)\n"
     ]
    }
   ],
   "source": [
    "lower_bound = 0.05\n",
    "num_fits = 10\n",
    "intermediate_fit = Fitter(segment_length_intermediate, distributions = \"common\", verbose=True)\n",
    "intermediate_fit.fit()"
   ]
  },
  {
   "cell_type": "code",
   "execution_count": 11,
   "metadata": {},
   "outputs": [
    {
     "data": {
      "text/html": [
       "<div>\n",
       "<style scoped>\n",
       "    .dataframe tbody tr th:only-of-type {\n",
       "        vertical-align: middle;\n",
       "    }\n",
       "\n",
       "    .dataframe tbody tr th {\n",
       "        vertical-align: top;\n",
       "    }\n",
       "\n",
       "    .dataframe thead th {\n",
       "        text-align: right;\n",
       "    }\n",
       "</style>\n",
       "<table border=\"1\" class=\"dataframe\">\n",
       "  <thead>\n",
       "    <tr style=\"text-align: right;\">\n",
       "      <th></th>\n",
       "      <th>sumsquare_error</th>\n",
       "      <th>log_lik</th>\n",
       "      <th>max_lik</th>\n",
       "      <th>aic</th>\n",
       "      <th>bic</th>\n",
       "      <th>kl_div</th>\n",
       "    </tr>\n",
       "  </thead>\n",
       "  <tbody>\n",
       "    <tr>\n",
       "      <th>lognorm</th>\n",
       "      <td>0.001885</td>\n",
       "      <td>673.533931</td>\n",
       "      <td>inf</td>\n",
       "      <td>-1341.067862</td>\n",
       "      <td>-3227.266878</td>\n",
       "      <td>inf</td>\n",
       "    </tr>\n",
       "    <tr>\n",
       "      <th>expon</th>\n",
       "      <td>0.003163</td>\n",
       "      <td>752.947265</td>\n",
       "      <td>inf</td>\n",
       "      <td>-1501.894530</td>\n",
       "      <td>-3091.577806</td>\n",
       "      <td>inf</td>\n",
       "    </tr>\n",
       "    <tr>\n",
       "      <th>gamma</th>\n",
       "      <td>0.004971</td>\n",
       "      <td>715.274905</td>\n",
       "      <td>inf</td>\n",
       "      <td>-1424.549809</td>\n",
       "      <td>-2962.585091</td>\n",
       "      <td>inf</td>\n",
       "    </tr>\n",
       "    <tr>\n",
       "      <th>exponpow</th>\n",
       "      <td>0.008862</td>\n",
       "      <td>649.480680</td>\n",
       "      <td>inf</td>\n",
       "      <td>-1292.961360</td>\n",
       "      <td>-2804.746438</td>\n",
       "      <td>inf</td>\n",
       "    </tr>\n",
       "  </tbody>\n",
       "</table>\n",
       "</div>"
      ],
      "text/plain": [
       "          sumsquare_error     log_lik  max_lik          aic          bic  \\\n",
       "lognorm          0.001885  673.533931      inf -1341.067862 -3227.266878   \n",
       "expon            0.003163  752.947265      inf -1501.894530 -3091.577806   \n",
       "gamma            0.004971  715.274905      inf -1424.549809 -2962.585091   \n",
       "exponpow         0.008862  649.480680      inf -1292.961360 -2804.746438   \n",
       "\n",
       "          kl_div  \n",
       "lognorm      inf  \n",
       "expon        inf  \n",
       "gamma        inf  \n",
       "exponpow     inf  "
      ]
     },
     "execution_count": 11,
     "metadata": {},
     "output_type": "execute_result"
    },
    {
     "data": {
      "image/png": "[encoded data removed]",
      "text/plain": [
       "<Figure size 432x288 with 1 Axes>"
      ]
     },
     "metadata": {
      "needs_background": "light"
     },
     "output_type": "display_data"
    }
   ],
   "source": [
    "intermediate_fit.summary(Nbest=num_fits, seg_type = \"Intermediate\", method='sumsquare_error')  # fatiguelife powerlognorm exponweib johnsonb geninvgauss recipinvgauss"
   ]
  },
  {
   "cell_type": "code",
   "execution_count": 12,
   "metadata": {},
   "outputs": [
    {
     "data": {
      "text/html": [
       "<div>\n",
       "<style scoped>\n",
       "    .dataframe tbody tr th:only-of-type {\n",
       "        vertical-align: middle;\n",
       "    }\n",
       "\n",
       "    .dataframe tbody tr th {\n",
       "        vertical-align: top;\n",
       "    }\n",
       "\n",
       "    .dataframe thead th {\n",
       "        text-align: right;\n",
       "    }\n",
       "</style>\n",
       "<table border=\"1\" class=\"dataframe\">\n",
       "  <thead>\n",
       "    <tr style=\"text-align: right;\">\n",
       "      <th></th>\n",
       "      <th>sumsquare_error</th>\n",
       "      <th>log_lik</th>\n",
       "      <th>max_lik</th>\n",
       "      <th>aic</th>\n",
       "      <th>bic</th>\n",
       "      <th>kl_div</th>\n",
       "    </tr>\n",
       "  </thead>\n",
       "  <tbody>\n",
       "    <tr>\n",
       "      <th>exponpow</th>\n",
       "      <td>0.008862</td>\n",
       "      <td>649.480680</td>\n",
       "      <td>inf</td>\n",
       "      <td>-1292.961360</td>\n",
       "      <td>-2804.746438</td>\n",
       "      <td>inf</td>\n",
       "    </tr>\n",
       "    <tr>\n",
       "      <th>lognorm</th>\n",
       "      <td>0.001885</td>\n",
       "      <td>673.533931</td>\n",
       "      <td>inf</td>\n",
       "      <td>-1341.067862</td>\n",
       "      <td>-3227.266878</td>\n",
       "      <td>inf</td>\n",
       "    </tr>\n",
       "    <tr>\n",
       "      <th>gamma</th>\n",
       "      <td>0.004971</td>\n",
       "      <td>715.274905</td>\n",
       "      <td>inf</td>\n",
       "      <td>-1424.549809</td>\n",
       "      <td>-2962.585091</td>\n",
       "      <td>inf</td>\n",
       "    </tr>\n",
       "    <tr>\n",
       "      <th>expon</th>\n",
       "      <td>0.003163</td>\n",
       "      <td>752.947265</td>\n",
       "      <td>inf</td>\n",
       "      <td>-1501.894530</td>\n",
       "      <td>-3091.577806</td>\n",
       "      <td>inf</td>\n",
       "    </tr>\n",
       "  </tbody>\n",
       "</table>\n",
       "</div>"
      ],
      "text/plain": [
       "          sumsquare_error     log_lik  max_lik          aic          bic  \\\n",
       "exponpow         0.008862  649.480680      inf -1292.961360 -2804.746438   \n",
       "lognorm          0.001885  673.533931      inf -1341.067862 -3227.266878   \n",
       "gamma            0.004971  715.274905      inf -1424.549809 -2962.585091   \n",
       "expon            0.003163  752.947265      inf -1501.894530 -3091.577806   \n",
       "\n",
       "          kl_div  \n",
       "exponpow     inf  \n",
       "lognorm      inf  \n",
       "gamma        inf  \n",
       "expon        inf  "
      ]
     },
     "execution_count": 12,
     "metadata": {},
     "output_type": "execute_result"
    },
    {
     "data": {
      "image/png": "[encoded data removed]",
      "text/plain": [
       "<Figure size 432x288 with 1 Axes>"
      ]
     },
     "metadata": {
      "needs_background": "light"
     },
     "output_type": "display_data"
    }
   ],
   "source": [
    "intermediate_fit.summary(Nbest=num_fits, seg_type = \"Intermediate\", method='log_lik')  # ranking changed"
   ]
  },
  {
   "cell_type": "code",
   "execution_count": 13,
   "metadata": {},
   "outputs": [
    {
     "data": {
      "text/html": [
       "<div>\n",
       "<style scoped>\n",
       "    .dataframe tbody tr th:only-of-type {\n",
       "        vertical-align: middle;\n",
       "    }\n",
       "\n",
       "    .dataframe tbody tr th {\n",
       "        vertical-align: top;\n",
       "    }\n",
       "\n",
       "    .dataframe thead th {\n",
       "        text-align: right;\n",
       "    }\n",
       "</style>\n",
       "<table border=\"1\" class=\"dataframe\">\n",
       "  <thead>\n",
       "    <tr style=\"text-align: right;\">\n",
       "      <th></th>\n",
       "      <th>sumsquare_error</th>\n",
       "      <th>log_lik</th>\n",
       "      <th>max_lik</th>\n",
       "      <th>aic</th>\n",
       "      <th>bic</th>\n",
       "      <th>kl_div</th>\n",
       "    </tr>\n",
       "  </thead>\n",
       "  <tbody>\n",
       "    <tr>\n",
       "      <th>expon</th>\n",
       "      <td>0.003163</td>\n",
       "      <td>752.947265</td>\n",
       "      <td>inf</td>\n",
       "      <td>-1501.894530</td>\n",
       "      <td>-3091.577806</td>\n",
       "      <td>inf</td>\n",
       "    </tr>\n",
       "    <tr>\n",
       "      <th>gamma</th>\n",
       "      <td>0.004971</td>\n",
       "      <td>715.274905</td>\n",
       "      <td>inf</td>\n",
       "      <td>-1424.549809</td>\n",
       "      <td>-2962.585091</td>\n",
       "      <td>inf</td>\n",
       "    </tr>\n",
       "    <tr>\n",
       "      <th>lognorm</th>\n",
       "      <td>0.001885</td>\n",
       "      <td>673.533931</td>\n",
       "      <td>inf</td>\n",
       "      <td>-1341.067862</td>\n",
       "      <td>-3227.266878</td>\n",
       "      <td>inf</td>\n",
       "    </tr>\n",
       "    <tr>\n",
       "      <th>exponpow</th>\n",
       "      <td>0.008862</td>\n",
       "      <td>649.480680</td>\n",
       "      <td>inf</td>\n",
       "      <td>-1292.961360</td>\n",
       "      <td>-2804.746438</td>\n",
       "      <td>inf</td>\n",
       "    </tr>\n",
       "  </tbody>\n",
       "</table>\n",
       "</div>"
      ],
      "text/plain": [
       "          sumsquare_error     log_lik  max_lik          aic          bic  \\\n",
       "expon            0.003163  752.947265      inf -1501.894530 -3091.577806   \n",
       "gamma            0.004971  715.274905      inf -1424.549809 -2962.585091   \n",
       "lognorm          0.001885  673.533931      inf -1341.067862 -3227.266878   \n",
       "exponpow         0.008862  649.480680      inf -1292.961360 -2804.746438   \n",
       "\n",
       "          kl_div  \n",
       "expon        inf  \n",
       "gamma        inf  \n",
       "lognorm      inf  \n",
       "exponpow     inf  "
      ]
     },
     "execution_count": 13,
     "metadata": {},
     "output_type": "execute_result"
    },
    {
     "data": {
      "image/png": "[encoded data removed]",
      "text/plain": [
       "<Figure size 432x288 with 1 Axes>"
      ]
     },
     "metadata": {
      "needs_background": "light"
     },
     "output_type": "display_data"
    }
   ],
   "source": [
    "intermediate_fit.summary(Nbest=num_fits, seg_type = \"Intermediate\", method='aic')  # ranking changed"
   ]
  },
  {
   "cell_type": "code",
   "execution_count": 14,
   "metadata": {},
   "outputs": [
    {
     "data": {
      "text/html": [
       "<div>\n",
       "<style scoped>\n",
       "    .dataframe tbody tr th:only-of-type {\n",
       "        vertical-align: middle;\n",
       "    }\n",
       "\n",
       "    .dataframe tbody tr th {\n",
       "        vertical-align: top;\n",
       "    }\n",
       "\n",
       "    .dataframe thead th {\n",
       "        text-align: right;\n",
       "    }\n",
       "</style>\n",
       "<table border=\"1\" class=\"dataframe\">\n",
       "  <thead>\n",
       "    <tr style=\"text-align: right;\">\n",
       "      <th></th>\n",
       "      <th>sumsquare_error</th>\n",
       "      <th>log_lik</th>\n",
       "      <th>max_lik</th>\n",
       "      <th>aic</th>\n",
       "      <th>bic</th>\n",
       "      <th>kl_div</th>\n",
       "    </tr>\n",
       "  </thead>\n",
       "  <tbody>\n",
       "    <tr>\n",
       "      <th>gamma</th>\n",
       "      <td>0.004971</td>\n",
       "      <td>715.274905</td>\n",
       "      <td>inf</td>\n",
       "      <td>-1424.549809</td>\n",
       "      <td>-2962.585091</td>\n",
       "      <td>inf</td>\n",
       "    </tr>\n",
       "    <tr>\n",
       "      <th>expon</th>\n",
       "      <td>0.003163</td>\n",
       "      <td>752.947265</td>\n",
       "      <td>inf</td>\n",
       "      <td>-1501.894530</td>\n",
       "      <td>-3091.577806</td>\n",
       "      <td>inf</td>\n",
       "    </tr>\n",
       "    <tr>\n",
       "      <th>exponpow</th>\n",
       "      <td>0.008862</td>\n",
       "      <td>649.480680</td>\n",
       "      <td>inf</td>\n",
       "      <td>-1292.961360</td>\n",
       "      <td>-2804.746438</td>\n",
       "      <td>inf</td>\n",
       "    </tr>\n",
       "    <tr>\n",
       "      <th>lognorm</th>\n",
       "      <td>0.001885</td>\n",
       "      <td>673.533931</td>\n",
       "      <td>inf</td>\n",
       "      <td>-1341.067862</td>\n",
       "      <td>-3227.266878</td>\n",
       "      <td>inf</td>\n",
       "    </tr>\n",
       "  </tbody>\n",
       "</table>\n",
       "</div>"
      ],
      "text/plain": [
       "          sumsquare_error     log_lik  max_lik          aic          bic  \\\n",
       "gamma            0.004971  715.274905      inf -1424.549809 -2962.585091   \n",
       "expon            0.003163  752.947265      inf -1501.894530 -3091.577806   \n",
       "exponpow         0.008862  649.480680      inf -1292.961360 -2804.746438   \n",
       "lognorm          0.001885  673.533931      inf -1341.067862 -3227.266878   \n",
       "\n",
       "          kl_div  \n",
       "gamma        inf  \n",
       "expon        inf  \n",
       "exponpow     inf  \n",
       "lognorm      inf  "
      ]
     },
     "execution_count": 14,
     "metadata": {},
     "output_type": "execute_result"
    },
    {
     "data": {
      "image/png": "[encoded data removed]",
      "text/plain": [
       "<Figure size 432x288 with 1 Axes>"
      ]
     },
     "metadata": {
      "needs_background": "light"
     },
     "output_type": "display_data"
    }
   ],
   "source": [
    "intermediate_fit.summary(Nbest=num_fits, seg_type = \"Intermediate\", method='max_lik')  #"
   ]
  },
  {
   "cell_type": "code",
   "execution_count": 15,
   "metadata": {},
   "outputs": [
    {
     "data": {
      "text/html": [
       "<div>\n",
       "<style scoped>\n",
       "    .dataframe tbody tr th:only-of-type {\n",
       "        vertical-align: middle;\n",
       "    }\n",
       "\n",
       "    .dataframe tbody tr th {\n",
       "        vertical-align: top;\n",
       "    }\n",
       "\n",
       "    .dataframe thead th {\n",
       "        text-align: right;\n",
       "    }\n",
       "</style>\n",
       "<table border=\"1\" class=\"dataframe\">\n",
       "  <thead>\n",
       "    <tr style=\"text-align: right;\">\n",
       "      <th></th>\n",
       "      <th>sumsquare_error</th>\n",
       "      <th>log_lik</th>\n",
       "      <th>max_lik</th>\n",
       "      <th>aic</th>\n",
       "      <th>bic</th>\n",
       "      <th>kl_div</th>\n",
       "    </tr>\n",
       "  </thead>\n",
       "  <tbody>\n",
       "    <tr>\n",
       "      <th>lognorm</th>\n",
       "      <td>0.001885</td>\n",
       "      <td>673.533931</td>\n",
       "      <td>inf</td>\n",
       "      <td>-1341.067862</td>\n",
       "      <td>-3227.266878</td>\n",
       "      <td>inf</td>\n",
       "    </tr>\n",
       "    <tr>\n",
       "      <th>expon</th>\n",
       "      <td>0.003163</td>\n",
       "      <td>752.947265</td>\n",
       "      <td>inf</td>\n",
       "      <td>-1501.894530</td>\n",
       "      <td>-3091.577806</td>\n",
       "      <td>inf</td>\n",
       "    </tr>\n",
       "    <tr>\n",
       "      <th>gamma</th>\n",
       "      <td>0.004971</td>\n",
       "      <td>715.274905</td>\n",
       "      <td>inf</td>\n",
       "      <td>-1424.549809</td>\n",
       "      <td>-2962.585091</td>\n",
       "      <td>inf</td>\n",
       "    </tr>\n",
       "    <tr>\n",
       "      <th>exponpow</th>\n",
       "      <td>0.008862</td>\n",
       "      <td>649.480680</td>\n",
       "      <td>inf</td>\n",
       "      <td>-1292.961360</td>\n",
       "      <td>-2804.746438</td>\n",
       "      <td>inf</td>\n",
       "    </tr>\n",
       "  </tbody>\n",
       "</table>\n",
       "</div>"
      ],
      "text/plain": [
       "          sumsquare_error     log_lik  max_lik          aic          bic  \\\n",
       "lognorm          0.001885  673.533931      inf -1341.067862 -3227.266878   \n",
       "expon            0.003163  752.947265      inf -1501.894530 -3091.577806   \n",
       "gamma            0.004971  715.274905      inf -1424.549809 -2962.585091   \n",
       "exponpow         0.008862  649.480680      inf -1292.961360 -2804.746438   \n",
       "\n",
       "          kl_div  \n",
       "lognorm      inf  \n",
       "expon        inf  \n",
       "gamma        inf  \n",
       "exponpow     inf  "
      ]
     },
     "execution_count": 15,
     "metadata": {},
     "output_type": "execute_result"
    },
    {
     "data": {
      "image/png": "[encoded data removed]",
      "text/plain": [
       "<Figure size 432x288 with 1 Axes>"
      ]
     },
     "metadata": {
      "needs_background": "light"
     },
     "output_type": "display_data"
    }
   ],
   "source": [
    "intermediate_fit.summary(Nbest=num_fits, seg_type = \"Intermediate\", method='bic')  #fatiguelife powerlognorm exponweib johnsonsb recipinvgauss geninvgauss"
   ]
  },
  {
   "cell_type": "code",
   "execution_count": 16,
   "metadata": {
    "scrolled": false
   },
   "outputs": [
    {
     "data": {
      "text/html": [
       "<div>\n",
       "<style scoped>\n",
       "    .dataframe tbody tr th:only-of-type {\n",
       "        vertical-align: middle;\n",
       "    }\n",
       "\n",
       "    .dataframe tbody tr th {\n",
       "        vertical-align: top;\n",
       "    }\n",
       "\n",
       "    .dataframe thead th {\n",
       "        text-align: right;\n",
       "    }\n",
       "</style>\n",
       "<table border=\"1\" class=\"dataframe\">\n",
       "  <thead>\n",
       "    <tr style=\"text-align: right;\">\n",
       "      <th></th>\n",
       "      <th>sumsquare_error</th>\n",
       "      <th>log_lik</th>\n",
       "      <th>max_lik</th>\n",
       "      <th>aic</th>\n",
       "      <th>bic</th>\n",
       "      <th>kl_div</th>\n",
       "    </tr>\n",
       "  </thead>\n",
       "  <tbody>\n",
       "    <tr>\n",
       "      <th>gamma</th>\n",
       "      <td>0.004971</td>\n",
       "      <td>715.274905</td>\n",
       "      <td>inf</td>\n",
       "      <td>-1424.549809</td>\n",
       "      <td>-2962.585091</td>\n",
       "      <td>inf</td>\n",
       "    </tr>\n",
       "    <tr>\n",
       "      <th>expon</th>\n",
       "      <td>0.003163</td>\n",
       "      <td>752.947265</td>\n",
       "      <td>inf</td>\n",
       "      <td>-1501.894530</td>\n",
       "      <td>-3091.577806</td>\n",
       "      <td>inf</td>\n",
       "    </tr>\n",
       "    <tr>\n",
       "      <th>exponpow</th>\n",
       "      <td>0.008862</td>\n",
       "      <td>649.480680</td>\n",
       "      <td>inf</td>\n",
       "      <td>-1292.961360</td>\n",
       "      <td>-2804.746438</td>\n",
       "      <td>inf</td>\n",
       "    </tr>\n",
       "  </tbody>\n",
       "</table>\n",
       "</div>"
      ],
      "text/plain": [
       "          sumsquare_error     log_lik  max_lik          aic          bic  \\\n",
       "gamma            0.004971  715.274905      inf -1424.549809 -2962.585091   \n",
       "expon            0.003163  752.947265      inf -1501.894530 -3091.577806   \n",
       "exponpow         0.008862  649.480680      inf -1292.961360 -2804.746438   \n",
       "\n",
       "          kl_div  \n",
       "gamma        inf  \n",
       "expon        inf  \n",
       "exponpow     inf  "
      ]
     },
     "execution_count": 16,
     "metadata": {},
     "output_type": "execute_result"
    },
    {
     "data": {
      "image/png": "[encoded data removed]",
      "text/plain": [
       "<Figure size 432x288 with 1 Axes>"
      ]
     },
     "metadata": {
      "needs_background": "light"
     },
     "output_type": "display_data"
    }
   ],
   "source": [
    "intermediate_fit.summary(Nbest=3, seg_type = \"Intermediate\", method='kl_div') # no result"
   ]
  },
  {
   "cell_type": "code",
   "execution_count": 17,
   "metadata": {},
   "outputs": [
    {
     "name": "stderr",
     "output_type": "stream",
     "text": [
      "c:\\users\\amanda p\\appdata\\local\\programs\\python\\python38\\lib\\site-packages\\scipy\\optimize\\optimize.py:597: RuntimeWarning:\n",
      "\n",
      "invalid value encountered in subtract\n",
      "\n"
     ]
    }
   ],
   "source": [
    "terminal_fit = Fitter(segment_length_terminal, distributions = \"common\", verbose=False)\n",
    "#terminal_fit._set_xmin(lower_bound)\n",
    "terminal_fit.fit()"
   ]
  },
  {
   "cell_type": "code",
   "execution_count": 18,
   "metadata": {},
   "outputs": [
    {
     "data": {
      "text/html": [
       "<div>\n",
       "<style scoped>\n",
       "    .dataframe tbody tr th:only-of-type {\n",
       "        vertical-align: middle;\n",
       "    }\n",
       "\n",
       "    .dataframe tbody tr th {\n",
       "        vertical-align: top;\n",
       "    }\n",
       "\n",
       "    .dataframe thead th {\n",
       "        text-align: right;\n",
       "    }\n",
       "</style>\n",
       "<table border=\"1\" class=\"dataframe\">\n",
       "  <thead>\n",
       "    <tr style=\"text-align: right;\">\n",
       "      <th></th>\n",
       "      <th>sumsquare_error</th>\n",
       "      <th>log_lik</th>\n",
       "      <th>max_lik</th>\n",
       "      <th>aic</th>\n",
       "      <th>bic</th>\n",
       "      <th>kl_div</th>\n",
       "    </tr>\n",
       "  </thead>\n",
       "  <tbody>\n",
       "    <tr>\n",
       "      <th>lognorm</th>\n",
       "      <td>0.007919</td>\n",
       "      <td>651.187912</td>\n",
       "      <td>inf</td>\n",
       "      <td>-1296.375824</td>\n",
       "      <td>-3574.464642</td>\n",
       "      <td>inf</td>\n",
       "    </tr>\n",
       "    <tr>\n",
       "      <th>expon</th>\n",
       "      <td>0.021110</td>\n",
       "      <td>774.229457</td>\n",
       "      <td>inf</td>\n",
       "      <td>-1544.458913</td>\n",
       "      <td>-3249.874719</td>\n",
       "      <td>inf</td>\n",
       "    </tr>\n",
       "    <tr>\n",
       "      <th>exponpow</th>\n",
       "      <td>0.069783</td>\n",
       "      <td>684.321433</td>\n",
       "      <td>inf</td>\n",
       "      <td>-1362.642867</td>\n",
       "      <td>-2841.124109</td>\n",
       "      <td>inf</td>\n",
       "    </tr>\n",
       "    <tr>\n",
       "      <th>gamma</th>\n",
       "      <td>0.085797</td>\n",
       "      <td>1545.383818</td>\n",
       "      <td>inf</td>\n",
       "      <td>-3084.767637</td>\n",
       "      <td>-2771.503427</td>\n",
       "      <td>inf</td>\n",
       "    </tr>\n",
       "  </tbody>\n",
       "</table>\n",
       "</div>"
      ],
      "text/plain": [
       "          sumsquare_error      log_lik  max_lik          aic          bic  \\\n",
       "lognorm          0.007919   651.187912      inf -1296.375824 -3574.464642   \n",
       "expon            0.021110   774.229457      inf -1544.458913 -3249.874719   \n",
       "exponpow         0.069783   684.321433      inf -1362.642867 -2841.124109   \n",
       "gamma            0.085797  1545.383818      inf -3084.767637 -2771.503427   \n",
       "\n",
       "          kl_div  \n",
       "lognorm      inf  \n",
       "expon        inf  \n",
       "exponpow     inf  \n",
       "gamma        inf  "
      ]
     },
     "execution_count": 18,
     "metadata": {},
     "output_type": "execute_result"
    },
    {
     "data": {
      "image/png": "[encoded data removed]",
      "text/plain": [
       "<Figure size 432x288 with 1 Axes>"
      ]
     },
     "metadata": {
      "needs_background": "light"
     },
     "output_type": "display_data"
    }
   ],
   "source": [
    "terminal_fit.summary(Nbest=num_fits, seg_type = \"Terminal\", method='sumsquare_error')  # halfcauchy kappa3 foldcauchy burr12 f beta prime loglaplace"
   ]
  },
  {
   "cell_type": "code",
   "execution_count": 19,
   "metadata": {},
   "outputs": [
    {
     "data": {
      "text/html": [
       "<div>\n",
       "<style scoped>\n",
       "    .dataframe tbody tr th:only-of-type {\n",
       "        vertical-align: middle;\n",
       "    }\n",
       "\n",
       "    .dataframe tbody tr th {\n",
       "        vertical-align: top;\n",
       "    }\n",
       "\n",
       "    .dataframe thead th {\n",
       "        text-align: right;\n",
       "    }\n",
       "</style>\n",
       "<table border=\"1\" class=\"dataframe\">\n",
       "  <thead>\n",
       "    <tr style=\"text-align: right;\">\n",
       "      <th></th>\n",
       "      <th>sumsquare_error</th>\n",
       "      <th>log_lik</th>\n",
       "      <th>max_lik</th>\n",
       "      <th>aic</th>\n",
       "      <th>bic</th>\n",
       "      <th>kl_div</th>\n",
       "    </tr>\n",
       "  </thead>\n",
       "  <tbody>\n",
       "    <tr>\n",
       "      <th>lognorm</th>\n",
       "      <td>0.007919</td>\n",
       "      <td>651.187912</td>\n",
       "      <td>inf</td>\n",
       "      <td>-1296.375824</td>\n",
       "      <td>-3574.464642</td>\n",
       "      <td>inf</td>\n",
       "    </tr>\n",
       "    <tr>\n",
       "      <th>exponpow</th>\n",
       "      <td>0.069783</td>\n",
       "      <td>684.321433</td>\n",
       "      <td>inf</td>\n",
       "      <td>-1362.642867</td>\n",
       "      <td>-2841.124109</td>\n",
       "      <td>inf</td>\n",
       "    </tr>\n",
       "    <tr>\n",
       "      <th>expon</th>\n",
       "      <td>0.021110</td>\n",
       "      <td>774.229457</td>\n",
       "      <td>inf</td>\n",
       "      <td>-1544.458913</td>\n",
       "      <td>-3249.874719</td>\n",
       "      <td>inf</td>\n",
       "    </tr>\n",
       "    <tr>\n",
       "      <th>gamma</th>\n",
       "      <td>0.085797</td>\n",
       "      <td>1545.383818</td>\n",
       "      <td>inf</td>\n",
       "      <td>-3084.767637</td>\n",
       "      <td>-2771.503427</td>\n",
       "      <td>inf</td>\n",
       "    </tr>\n",
       "  </tbody>\n",
       "</table>\n",
       "</div>"
      ],
      "text/plain": [
       "          sumsquare_error      log_lik  max_lik          aic          bic  \\\n",
       "lognorm          0.007919   651.187912      inf -1296.375824 -3574.464642   \n",
       "exponpow         0.069783   684.321433      inf -1362.642867 -2841.124109   \n",
       "expon            0.021110   774.229457      inf -1544.458913 -3249.874719   \n",
       "gamma            0.085797  1545.383818      inf -3084.767637 -2771.503427   \n",
       "\n",
       "          kl_div  \n",
       "lognorm      inf  \n",
       "exponpow     inf  \n",
       "expon        inf  \n",
       "gamma        inf  "
      ]
     },
     "execution_count": 19,
     "metadata": {},
     "output_type": "execute_result"
    },
    {
     "data": {
      "image/png": "[encoded data removed]",
      "text/plain": [
       "<Figure size 432x288 with 1 Axes>"
      ]
     },
     "metadata": {
      "needs_background": "light"
     },
     "output_type": "display_data"
    }
   ],
   "source": [
    "terminal_fit.summary(Nbest=num_fits, seg_type = \"Terminal\", method='log_lik')  # (-inf) norm crystalball"
   ]
  },
  {
   "cell_type": "code",
   "execution_count": 20,
   "metadata": {},
   "outputs": [
    {
     "data": {
      "text/html": [
       "<div>\n",
       "<style scoped>\n",
       "    .dataframe tbody tr th:only-of-type {\n",
       "        vertical-align: middle;\n",
       "    }\n",
       "\n",
       "    .dataframe tbody tr th {\n",
       "        vertical-align: top;\n",
       "    }\n",
       "\n",
       "    .dataframe thead th {\n",
       "        text-align: right;\n",
       "    }\n",
       "</style>\n",
       "<table border=\"1\" class=\"dataframe\">\n",
       "  <thead>\n",
       "    <tr style=\"text-align: right;\">\n",
       "      <th></th>\n",
       "      <th>sumsquare_error</th>\n",
       "      <th>log_lik</th>\n",
       "      <th>max_lik</th>\n",
       "      <th>aic</th>\n",
       "      <th>bic</th>\n",
       "      <th>kl_div</th>\n",
       "    </tr>\n",
       "  </thead>\n",
       "  <tbody>\n",
       "    <tr>\n",
       "      <th>gamma</th>\n",
       "      <td>0.085797</td>\n",
       "      <td>1545.383818</td>\n",
       "      <td>inf</td>\n",
       "      <td>-3084.767637</td>\n",
       "      <td>-2771.503427</td>\n",
       "      <td>inf</td>\n",
       "    </tr>\n",
       "    <tr>\n",
       "      <th>expon</th>\n",
       "      <td>0.021110</td>\n",
       "      <td>774.229457</td>\n",
       "      <td>inf</td>\n",
       "      <td>-1544.458913</td>\n",
       "      <td>-3249.874719</td>\n",
       "      <td>inf</td>\n",
       "    </tr>\n",
       "    <tr>\n",
       "      <th>exponpow</th>\n",
       "      <td>0.069783</td>\n",
       "      <td>684.321433</td>\n",
       "      <td>inf</td>\n",
       "      <td>-1362.642867</td>\n",
       "      <td>-2841.124109</td>\n",
       "      <td>inf</td>\n",
       "    </tr>\n",
       "    <tr>\n",
       "      <th>lognorm</th>\n",
       "      <td>0.007919</td>\n",
       "      <td>651.187912</td>\n",
       "      <td>inf</td>\n",
       "      <td>-1296.375824</td>\n",
       "      <td>-3574.464642</td>\n",
       "      <td>inf</td>\n",
       "    </tr>\n",
       "  </tbody>\n",
       "</table>\n",
       "</div>"
      ],
      "text/plain": [
       "          sumsquare_error      log_lik  max_lik          aic          bic  \\\n",
       "gamma            0.085797  1545.383818      inf -3084.767637 -2771.503427   \n",
       "expon            0.021110   774.229457      inf -1544.458913 -3249.874719   \n",
       "exponpow         0.069783   684.321433      inf -1362.642867 -2841.124109   \n",
       "lognorm          0.007919   651.187912      inf -1296.375824 -3574.464642   \n",
       "\n",
       "          kl_div  \n",
       "gamma        inf  \n",
       "expon        inf  \n",
       "exponpow     inf  \n",
       "lognorm      inf  "
      ]
     },
     "execution_count": 20,
     "metadata": {},
     "output_type": "execute_result"
    },
    {
     "data": {
      "image/png": "[encoded data removed]",
      "text/plain": [
       "<Figure size 432x288 with 1 Axes>"
      ]
     },
     "metadata": {
      "needs_background": "light"
     },
     "output_type": "display_data"
    }
   ],
   "source": [
    "terminal_fit.summary(Nbest=num_fits, seg_type = \"Terminal\", method='max_lik')  # no result"
   ]
  },
  {
   "cell_type": "code",
   "execution_count": 21,
   "metadata": {},
   "outputs": [
    {
     "data": {
      "text/html": [
       "<div>\n",
       "<style scoped>\n",
       "    .dataframe tbody tr th:only-of-type {\n",
       "        vertical-align: middle;\n",
       "    }\n",
       "\n",
       "    .dataframe tbody tr th {\n",
       "        vertical-align: top;\n",
       "    }\n",
       "\n",
       "    .dataframe thead th {\n",
       "        text-align: right;\n",
       "    }\n",
       "</style>\n",
       "<table border=\"1\" class=\"dataframe\">\n",
       "  <thead>\n",
       "    <tr style=\"text-align: right;\">\n",
       "      <th></th>\n",
       "      <th>sumsquare_error</th>\n",
       "      <th>log_lik</th>\n",
       "      <th>max_lik</th>\n",
       "      <th>aic</th>\n",
       "      <th>bic</th>\n",
       "      <th>kl_div</th>\n",
       "    </tr>\n",
       "  </thead>\n",
       "  <tbody>\n",
       "    <tr>\n",
       "      <th>lognorm</th>\n",
       "      <td>0.007919</td>\n",
       "      <td>651.187912</td>\n",
       "      <td>inf</td>\n",
       "      <td>-1296.375824</td>\n",
       "      <td>-3574.464642</td>\n",
       "      <td>inf</td>\n",
       "    </tr>\n",
       "    <tr>\n",
       "      <th>expon</th>\n",
       "      <td>0.021110</td>\n",
       "      <td>774.229457</td>\n",
       "      <td>inf</td>\n",
       "      <td>-1544.458913</td>\n",
       "      <td>-3249.874719</td>\n",
       "      <td>inf</td>\n",
       "    </tr>\n",
       "    <tr>\n",
       "      <th>exponpow</th>\n",
       "      <td>0.069783</td>\n",
       "      <td>684.321433</td>\n",
       "      <td>inf</td>\n",
       "      <td>-1362.642867</td>\n",
       "      <td>-2841.124109</td>\n",
       "      <td>inf</td>\n",
       "    </tr>\n",
       "    <tr>\n",
       "      <th>gamma</th>\n",
       "      <td>0.085797</td>\n",
       "      <td>1545.383818</td>\n",
       "      <td>inf</td>\n",
       "      <td>-3084.767637</td>\n",
       "      <td>-2771.503427</td>\n",
       "      <td>inf</td>\n",
       "    </tr>\n",
       "  </tbody>\n",
       "</table>\n",
       "</div>"
      ],
      "text/plain": [
       "          sumsquare_error      log_lik  max_lik          aic          bic  \\\n",
       "lognorm          0.007919   651.187912      inf -1296.375824 -3574.464642   \n",
       "expon            0.021110   774.229457      inf -1544.458913 -3249.874719   \n",
       "exponpow         0.069783   684.321433      inf -1362.642867 -2841.124109   \n",
       "gamma            0.085797  1545.383818      inf -3084.767637 -2771.503427   \n",
       "\n",
       "          kl_div  \n",
       "lognorm      inf  \n",
       "expon        inf  \n",
       "exponpow     inf  \n",
       "gamma        inf  "
      ]
     },
     "execution_count": 21,
     "metadata": {},
     "output_type": "execute_result"
    },
    {
     "data": {
      "image/png": "[encoded data removed]",
      "text/plain": [
       "<Figure size 432x288 with 1 Axes>"
      ]
     },
     "metadata": {
      "needs_background": "light"
     },
     "output_type": "display_data"
    }
   ],
   "source": [
    "terminal_fit.summary(Nbest=num_fits, seg_type = \"Terminal\", method='bic')  # halfcauchy kappa3 foldcauchy loglaplace burr12 f betaprime genpareto lomax burr"
   ]
  },
  {
   "cell_type": "code",
   "execution_count": 22,
   "metadata": {
    "scrolled": true
   },
   "outputs": [
    {
     "data": {
      "text/html": [
       "<div>\n",
       "<style scoped>\n",
       "    .dataframe tbody tr th:only-of-type {\n",
       "        vertical-align: middle;\n",
       "    }\n",
       "\n",
       "    .dataframe tbody tr th {\n",
       "        vertical-align: top;\n",
       "    }\n",
       "\n",
       "    .dataframe thead th {\n",
       "        text-align: right;\n",
       "    }\n",
       "</style>\n",
       "<table border=\"1\" class=\"dataframe\">\n",
       "  <thead>\n",
       "    <tr style=\"text-align: right;\">\n",
       "      <th></th>\n",
       "      <th>sumsquare_error</th>\n",
       "      <th>log_lik</th>\n",
       "      <th>max_lik</th>\n",
       "      <th>aic</th>\n",
       "      <th>bic</th>\n",
       "      <th>kl_div</th>\n",
       "    </tr>\n",
       "  </thead>\n",
       "  <tbody>\n",
       "    <tr>\n",
       "      <th>gamma</th>\n",
       "      <td>0.085797</td>\n",
       "      <td>1545.383818</td>\n",
       "      <td>inf</td>\n",
       "      <td>-3084.767637</td>\n",
       "      <td>-2771.503427</td>\n",
       "      <td>inf</td>\n",
       "    </tr>\n",
       "    <tr>\n",
       "      <th>expon</th>\n",
       "      <td>0.021110</td>\n",
       "      <td>774.229457</td>\n",
       "      <td>inf</td>\n",
       "      <td>-1544.458913</td>\n",
       "      <td>-3249.874719</td>\n",
       "      <td>inf</td>\n",
       "    </tr>\n",
       "    <tr>\n",
       "      <th>exponpow</th>\n",
       "      <td>0.069783</td>\n",
       "      <td>684.321433</td>\n",
       "      <td>inf</td>\n",
       "      <td>-1362.642867</td>\n",
       "      <td>-2841.124109</td>\n",
       "      <td>inf</td>\n",
       "    </tr>\n",
       "    <tr>\n",
       "      <th>lognorm</th>\n",
       "      <td>0.007919</td>\n",
       "      <td>651.187912</td>\n",
       "      <td>inf</td>\n",
       "      <td>-1296.375824</td>\n",
       "      <td>-3574.464642</td>\n",
       "      <td>inf</td>\n",
       "    </tr>\n",
       "  </tbody>\n",
       "</table>\n",
       "</div>"
      ],
      "text/plain": [
       "          sumsquare_error      log_lik  max_lik          aic          bic  \\\n",
       "gamma            0.085797  1545.383818      inf -3084.767637 -2771.503427   \n",
       "expon            0.021110   774.229457      inf -1544.458913 -3249.874719   \n",
       "exponpow         0.069783   684.321433      inf -1362.642867 -2841.124109   \n",
       "lognorm          0.007919   651.187912      inf -1296.375824 -3574.464642   \n",
       "\n",
       "          kl_div  \n",
       "gamma        inf  \n",
       "expon        inf  \n",
       "exponpow     inf  \n",
       "lognorm      inf  "
      ]
     },
     "execution_count": 22,
     "metadata": {},
     "output_type": "execute_result"
    },
    {
     "data": {
      "image/png": "[encoded data removed]",
      "text/plain": [
       "<Figure size 432x288 with 1 Axes>"
      ]
     },
     "metadata": {
      "needs_background": "light"
     },
     "output_type": "display_data"
    }
   ],
   "source": [
    "terminal_fit.summary(Nbest=num_fits, seg_type = \"Terminal\", method='kl_div')  # (-inf) alpha nct ncf nakagami"
   ]
  }
 ],
 "metadata": {
  "kernelspec": {
   "display_name": "Python 3",
   "language": "python",
   "name": "python3"
  },
  "language_info": {
   "codemirror_mode": {
    "name": "ipython",
    "version": 3
   },
   "file_extension": ".py",
   "mimetype": "text/x-python",
   "name": "python",
   "nbconvert_exporter": "python",
   "pygments_lexer": "ipython3",
   "version": "3.8.3"
  }
 },
 "nbformat": 4,
 "nbformat_minor": 4
}
