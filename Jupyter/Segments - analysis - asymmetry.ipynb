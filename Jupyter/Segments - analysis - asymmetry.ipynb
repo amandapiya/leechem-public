{
 "cells": [
  {
   "cell_type": "code",
   "execution_count": 48,
   "metadata": {},
   "outputs": [],
   "source": [
    "import math\n",
    "import copy\n",
    "from tqdm import tqdm\n",
    "\n",
    "import numpy as np\n",
    "import pandas as pd\n",
    "\n",
    "import networkx as nx\n",
    "\n",
    "import matplotlib.pyplot as plt\n",
    "import plotly.offline\n",
    "import plotly.graph_objects as go\n",
    "from plotly.subplots import make_subplots\n",
    "\n",
    "from sbemdb import SBEMDB\n",
    "from cleandb import clean_db, clean_db_uct\n",
    "\n",
    "from distance import distance\n",
    "from findpath import find_path\n",
    "\n",
    "import mapping "
   ]
  },
  {
   "cell_type": "code",
   "execution_count": 49,
   "metadata": {},
   "outputs": [
    {
     "name": "stdout",
     "output_type": "stream",
     "text": [
      "trees Before 398\n",
      "trees After 46\n",
      "nodes Before 37481\n",
      "nodes After 16320\n",
      "nodecons Before 73994\n",
      "nodecons After 32548\n",
      "syncons Before 1199\n",
      "syncons After 826\n",
      "synapses Before 552\n",
      "synapses After 535\n"
     ]
    }
   ],
   "source": [
    "db = SBEMDB()\n",
    "db = clean_db(db) \n",
    "x,y,z = db.segments(444)\n",
    "mp = mapping.Mapping()"
   ]
  },
  {
   "cell_type": "markdown",
   "metadata": {},
   "source": [
    "# Old"
   ]
  },
  {
   "cell_type": "code",
   "execution_count": 50,
   "metadata": {},
   "outputs": [
    {
     "data": {
      "text/html": [
       "<div>\n",
       "<style scoped>\n",
       "    .dataframe tbody tr th:only-of-type {\n",
       "        vertical-align: middle;\n",
       "    }\n",
       "\n",
       "    .dataframe tbody tr th {\n",
       "        vertical-align: top;\n",
       "    }\n",
       "\n",
       "    .dataframe thead th {\n",
       "        text-align: right;\n",
       "    }\n",
       "</style>\n",
       "<table border=\"1\" class=\"dataframe\">\n",
       "  <thead>\n",
       "    <tr style=\"text-align: right;\">\n",
       "      <th></th>\n",
       "      <th>segment_id</th>\n",
       "      <th>branch_id</th>\n",
       "      <th>type</th>\n",
       "      <th>depth</th>\n",
       "      <th>is_synapse</th>\n",
       "      <th>node_id</th>\n",
       "      <th>point_node_id</th>\n",
       "    </tr>\n",
       "  </thead>\n",
       "  <tbody>\n",
       "    <tr>\n",
       "      <th>0</th>\n",
       "      <td>0</td>\n",
       "      <td>2137</td>\n",
       "      <td>main</td>\n",
       "      <td>0</td>\n",
       "      <td>False</td>\n",
       "      <td>2137</td>\n",
       "      <td>2137</td>\n",
       "    </tr>\n",
       "    <tr>\n",
       "      <th>1</th>\n",
       "      <td>0</td>\n",
       "      <td>2137</td>\n",
       "      <td>main</td>\n",
       "      <td>0</td>\n",
       "      <td>False</td>\n",
       "      <td>3477</td>\n",
       "      <td>2137</td>\n",
       "    </tr>\n",
       "    <tr>\n",
       "      <th>2</th>\n",
       "      <td>0</td>\n",
       "      <td>2137</td>\n",
       "      <td>main</td>\n",
       "      <td>0</td>\n",
       "      <td>False</td>\n",
       "      <td>3478</td>\n",
       "      <td>3477</td>\n",
       "    </tr>\n",
       "    <tr>\n",
       "      <th>3</th>\n",
       "      <td>0</td>\n",
       "      <td>2137</td>\n",
       "      <td>main</td>\n",
       "      <td>0</td>\n",
       "      <td>False</td>\n",
       "      <td>3479</td>\n",
       "      <td>3478</td>\n",
       "    </tr>\n",
       "    <tr>\n",
       "      <th>4</th>\n",
       "      <td>0</td>\n",
       "      <td>2137</td>\n",
       "      <td>main</td>\n",
       "      <td>0</td>\n",
       "      <td>False</td>\n",
       "      <td>3480</td>\n",
       "      <td>3479</td>\n",
       "    </tr>\n",
       "  </tbody>\n",
       "</table>\n",
       "</div>"
      ],
      "text/plain": [
       "   segment_id  branch_id  type  depth  is_synapse  node_id  point_node_id\n",
       "0           0       2137  main      0       False     2137           2137\n",
       "1           0       2137  main      0       False     3477           2137\n",
       "2           0       2137  main      0       False     3478           3477\n",
       "3           0       2137  main      0       False     3479           3478\n",
       "4           0       2137  main      0       False     3480           3479"
      ]
     },
     "execution_count": 50,
     "metadata": {},
     "output_type": "execute_result"
    }
   ],
   "source": [
    "node_ids_db = list(db.nodeDetails('tid==444 and typ=6').keys())\n",
    "segments = pd.read_csv('segments_table.csv')\n",
    "segments.head()"
   ]
  },
  {
   "cell_type": "code",
   "execution_count": 51,
   "metadata": {
    "scrolled": true
   },
   "outputs": [],
   "source": [
    "node_neighbors = {}\n",
    "segment_ids = segments['segment_id'].unique()\n",
    "for i in range(len(segment_ids)):\n",
    "    sub_data = segments[segments['segment_id'] == segment_ids[i]]\n",
    "    #first_node_id = sub_data.iloc[-1]['node_id']\n",
    "    for i in range(len(sub_data)):\n",
    "        node_id = sub_data.iloc[i]['node_id']\n",
    "        node_id2 = sub_data.iloc[i]['point_node_id']\n",
    "        if node_id not in node_neighbors:\n",
    "            node_neighbors[node_id] = []\n",
    "        if node_id2 not in node_neighbors:\n",
    "            node_neighbors[node_id2] = []\n",
    "        if node_id != node_id2:\n",
    "            node_neighbors[node_id].append(node_id2)\n",
    "            node_neighbors[node_id2].append(node_id)"
   ]
  },
  {
   "cell_type": "code",
   "execution_count": 53,
   "metadata": {},
   "outputs": [],
   "source": [
    "counts = {}\n",
    "for i in range(1500):\n",
    "    df = segments[segments['segment_id'] == i]\n",
    "    if not df.empty:\n",
    "        branching_node = df['node_id'].iloc[-1]\n",
    "        pointing_nodes = segments[segments['point_node_id'] == branching_node]['segment_id'].values        \n",
    "        c = len(pointing_nodes)\n",
    "        counts[c] = counts.get(c, 0) + 1\n",
    "counts_x = []\n",
    "for i in range(8):\n",
    "    counts_x.append(counts.get(i, 0))"
   ]
  },
  {
   "cell_type": "markdown",
   "metadata": {},
   "source": [
    "# new"
   ]
  },
  {
   "cell_type": "code",
   "execution_count": 54,
   "metadata": {},
   "outputs": [
    {
     "data": {
      "text/html": [
       "<div>\n",
       "<style scoped>\n",
       "    .dataframe tbody tr th:only-of-type {\n",
       "        vertical-align: middle;\n",
       "    }\n",
       "\n",
       "    .dataframe tbody tr th {\n",
       "        vertical-align: top;\n",
       "    }\n",
       "\n",
       "    .dataframe thead th {\n",
       "        text-align: right;\n",
       "    }\n",
       "</style>\n",
       "<table border=\"1\" class=\"dataframe\">\n",
       "  <thead>\n",
       "    <tr style=\"text-align: right;\">\n",
       "      <th></th>\n",
       "      <th>segment_id</th>\n",
       "      <th>branch_id</th>\n",
       "      <th>type</th>\n",
       "      <th>depth</th>\n",
       "      <th>is_synapse</th>\n",
       "      <th>node_id</th>\n",
       "      <th>point_node_id</th>\n",
       "    </tr>\n",
       "  </thead>\n",
       "  <tbody>\n",
       "    <tr>\n",
       "      <th>0</th>\n",
       "      <td>0</td>\n",
       "      <td>0</td>\n",
       "      <td>main</td>\n",
       "      <td>0</td>\n",
       "      <td>False</td>\n",
       "      <td>3477</td>\n",
       "      <td>2137</td>\n",
       "    </tr>\n",
       "    <tr>\n",
       "      <th>1</th>\n",
       "      <td>0</td>\n",
       "      <td>0</td>\n",
       "      <td>main</td>\n",
       "      <td>0</td>\n",
       "      <td>False</td>\n",
       "      <td>3478</td>\n",
       "      <td>3477</td>\n",
       "    </tr>\n",
       "    <tr>\n",
       "      <th>2</th>\n",
       "      <td>0</td>\n",
       "      <td>0</td>\n",
       "      <td>main</td>\n",
       "      <td>0</td>\n",
       "      <td>False</td>\n",
       "      <td>3479</td>\n",
       "      <td>3478</td>\n",
       "    </tr>\n",
       "    <tr>\n",
       "      <th>3</th>\n",
       "      <td>0</td>\n",
       "      <td>0</td>\n",
       "      <td>main</td>\n",
       "      <td>0</td>\n",
       "      <td>False</td>\n",
       "      <td>3480</td>\n",
       "      <td>3479</td>\n",
       "    </tr>\n",
       "    <tr>\n",
       "      <th>4</th>\n",
       "      <td>0</td>\n",
       "      <td>0</td>\n",
       "      <td>main</td>\n",
       "      <td>0</td>\n",
       "      <td>False</td>\n",
       "      <td>3481</td>\n",
       "      <td>3480</td>\n",
       "    </tr>\n",
       "  </tbody>\n",
       "</table>\n",
       "</div>"
      ],
      "text/plain": [
       "   segment_id  branch_id  type  depth  is_synapse  node_id  point_node_id\n",
       "0           0          0  main      0       False     3477           2137\n",
       "1           0          0  main      0       False     3478           3477\n",
       "2           0          0  main      0       False     3479           3478\n",
       "3           0          0  main      0       False     3480           3479\n",
       "4           0          0  main      0       False     3481           3480"
      ]
     },
     "execution_count": 54,
     "metadata": {},
     "output_type": "execute_result"
    }
   ],
   "source": [
    "node_ids_db = list(db.nodeDetails('tid==444 and typ=6').keys())\n",
    "segments = pd.read_csv('segments_table_dw.csv')\n",
    "segments.head()"
   ]
  },
  {
   "cell_type": "code",
   "execution_count": 55,
   "metadata": {},
   "outputs": [],
   "source": [
    "node_neighbors = {}\n",
    "segment_ids = segments['segment_id'].unique()\n",
    "for i in range(len(segment_ids)):\n",
    "    sub_data = segments[segments['segment_id'] == segment_ids[i]]\n",
    "    #first_node_id = sub_data.iloc[-1]['node_id']\n",
    "    for i in range(len(sub_data)):\n",
    "        node_id = sub_data.iloc[i]['node_id']\n",
    "        node_id2 = sub_data.iloc[i]['point_node_id']\n",
    "        if node_id not in node_neighbors:\n",
    "            node_neighbors[node_id] = []\n",
    "        if node_id2 not in node_neighbors:\n",
    "            node_neighbors[node_id2] = []\n",
    "        if node_id != node_id2:\n",
    "            node_neighbors[node_id].append(node_id2)\n",
    "            node_neighbors[node_id2].append(node_id)"
   ]
  },
  {
   "cell_type": "code",
   "execution_count": 58,
   "metadata": {},
   "outputs": [],
   "source": [
    "counts_new = {}\n",
    "for i in range(1500):\n",
    "    df = segments[segments['segment_id'] == i]\n",
    "    if not df.empty:\n",
    "        branching_node = df['node_id'].iloc[-1]\n",
    "        pointing_nodes = segments[segments['point_node_id'] == branching_node]['segment_id'].values        \n",
    "        c = len(pointing_nodes)\n",
    "        counts_new[c] = counts.get(c, 0) + 1\n",
    "counts_new_x = []\n",
    "for i in range(8):\n",
    "    counts_new_x.append(counts_new.get(i, 0))"
   ]
  },
  {
   "cell_type": "code",
   "execution_count": 65,
   "metadata": {},
   "outputs": [
    {
     "name": "stdout",
     "output_type": "stream",
     "text": [
      "{2: 36, 3: 151, 5: 6, 4: 21, 0: 2} {0: 1, 4: 20, 3: 150, 2: 35, 5: 5, 7: 1}\n",
      "[2, 0, 36, 151, 21, 6, 0, 0] [1, 0, 35, 150, 20, 5, 0, 1]\n"
     ]
    }
   ],
   "source": [
    "print(counts_new, counts)\n",
    "print(counts_new_x, counts_x)"
   ]
  },
  {
   "cell_type": "code",
   "execution_count": 69,
   "metadata": {},
   "outputs": [
    {
     "data": {
      "image/png": "[encoded data removed]",
      "text/plain": [
       "<Figure size 432x288 with 1 Axes>"
      ]
     },
     "metadata": {
      "needs_background": "light"
     },
     "output_type": "display_data"
    }
   ],
   "source": [
    "x = np.arange(8)\n",
    "w = 0.2\n",
    "ax = plt.subplot(111)\n",
    "plt.xticks(x + w /2, ['0','1', '2', '3', '4', '5', '6', '7'])\n",
    "ax.bar(x, counts_x, width=0.2, color='b', align='center')\n",
    "ax.bar(x + w, counts_new_x, width=0.2, color='g', align='center')\n",
    "plt.legend(['Pre-pruned', 'Post-Pruned'])\n",
    "plt.xlabel('Number of Children')\n",
    "plt.show()"
   ]
  },
  {
   "cell_type": "markdown",
   "metadata": {},
   "source": [
    "# analyzing new csv"
   ]
  },
  {
   "cell_type": "code",
   "execution_count": 61,
   "metadata": {},
   "outputs": [
    {
     "data": {
      "text/plain": [
       "(31, 2702, 2633)"
      ]
     },
     "execution_count": 61,
     "metadata": {},
     "output_type": "execute_result"
    }
   ],
   "source": [
    "rootlen, islen, tslen = len(segments[segments['type'] == 'root']), len(segments[segments['type'] == 'is']), len(segments[segments['type'] == 'ts'])\n",
    "rootlen, islen, tslen"
   ]
  },
  {
   "cell_type": "code",
   "execution_count": 62,
   "metadata": {},
   "outputs": [
    {
     "data": {
      "text/plain": [
       "(234, 3903, 2022)"
      ]
     },
     "execution_count": 62,
     "metadata": {},
     "output_type": "execute_result"
    }
   ],
   "source": [
    "segments2 = pd.read_csv('segments_table.csv')\n",
    "rootlen2, islen2, tslen2 = len(segments2[segments2['type'] == 'root']), len(segments2[segments2['type'] == 'is']), len(segments2[segments2['type'] == 'ts'])\n",
    "rootlen2, islen2, tslen2"
   ]
  },
  {
   "cell_type": "code",
   "execution_count": 63,
   "metadata": {},
   "outputs": [
    {
     "data": {
      "text/plain": [
       "<BarContainer object of 3 artists>"
      ]
     },
     "execution_count": 63,
     "metadata": {},
     "output_type": "execute_result"
    },
    {
     "data": {
      "image/png": "[encoded data removed]",
      "text/plain": [
       "<Figure size 432x288 with 1 Axes>"
      ]
     },
     "metadata": {
      "needs_background": "light"
     },
     "output_type": "display_data"
    }
   ],
   "source": [
    "plt.bar(x=range(3), height=[rootlen, islen, tslen], tick_label= ['Root', 'IS', 'TS'])\n",
    "#updated segments"
   ]
  },
  {
   "cell_type": "code",
   "execution_count": 64,
   "metadata": {},
   "outputs": [
    {
     "data": {
      "text/plain": [
       "<BarContainer object of 3 artists>"
      ]
     },
     "execution_count": 64,
     "metadata": {},
     "output_type": "execute_result"
    },
    {
     "data": {
      "image/png": "[encoded data removed]",
      "text/plain": [
       "<Figure size 432x288 with 1 Axes>"
      ]
     },
     "metadata": {
      "needs_background": "light"
     },
     "output_type": "display_data"
    }
   ],
   "source": [
    "plt.bar(x=range(3), height=[rootlen2, islen2, tslen2], tick_label= ['Root', 'IS', 'TS'])\n",
    "#original segments"
   ]
  }
 ],
 "metadata": {
  "kernelspec": {
   "display_name": "Python 3",
   "language": "python",
   "name": "python3"
  },
  "language_info": {
   "codemirror_mode": {
    "name": "ipython",
    "version": 3
   },
   "file_extension": ".py",
   "mimetype": "text/x-python",
   "name": "python",
   "nbconvert_exporter": "python",
   "pygments_lexer": "ipython3",
   "version": "3.8.3"
  }
 },
 "nbformat": 4,
 "nbformat_minor": 4
}
